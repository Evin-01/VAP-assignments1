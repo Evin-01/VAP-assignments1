{
 "cells": [
  {
   "cell_type": "code",
   "execution_count": 1,
   "id": "bd2c0fc7-ac03-47ef-bee9-2be6f4c7e9a8",
   "metadata": {},
   "outputs": [],
   "source": [
    "x=7**4"
   ]
  },
  {
   "cell_type": "code",
   "execution_count": 2,
   "id": "8b50ff0a-46ac-44a8-9e98-4d047912ce23",
   "metadata": {},
   "outputs": [
    {
     "data": {
      "text/plain": [
       "2401"
      ]
     },
     "execution_count": 2,
     "metadata": {},
     "output_type": "execute_result"
    }
   ],
   "source": [
    "x"
   ]
  },
  {
   "cell_type": "code",
   "execution_count": 3,
   "id": "bcc2c689-3b94-4f51-a409-7100172b5038",
   "metadata": {},
   "outputs": [],
   "source": [
    "s = \"Hi there Yogesh!\""
   ]
  },
  {
   "cell_type": "code",
   "execution_count": 5,
   "id": "6e24db8b-69e5-4308-a0e7-4a20b9bf5c12",
   "metadata": {},
   "outputs": [
    {
     "data": {
      "text/plain": [
       "['Hi', 'there', 'Yogesh!']"
      ]
     },
     "execution_count": 5,
     "metadata": {},
     "output_type": "execute_result"
    }
   ],
   "source": [
    "s.split()"
   ]
  },
  {
   "cell_type": "code",
   "execution_count": 9,
   "id": "f7a82d14-ce67-4086-99a9-8dce71a64b23",
   "metadata": {},
   "outputs": [
    {
     "name": "stdout",
     "output_type": "stream",
     "text": [
      "The diameter of Earth is 12742 kilometers\n"
     ]
    }
   ],
   "source": [
    "#** Given the variables:**\n",
    "#     planet = \"Earth\"\n",
    "#     diameter = 12742\n",
    "# ** Use .format() to print the following string: **\n",
    "#     The diameter of Earth is 12742 kilometers.\n",
    "\n",
    "planet = \"Earth\"\n",
    "diameter = \"12742\"\n",
    "print(\"The diameter of {} is {} kilometers\".format(planet,diameter))"
   ]
  },
  {
   "cell_type": "code",
   "execution_count": 10,
   "id": "0071af36-138e-43f7-9ca2-3d6ce4a6c2b5",
   "metadata": {},
   "outputs": [],
   "source": [
    "# ** Given this nested list, use indexing to grab the word \"hello\" **\n",
    "\n",
    "lst = [1,2,[3,4],[5,[100,200,['hello']],23,11],1,7]"
   ]
  },
  {
   "cell_type": "code",
   "execution_count": 13,
   "id": "6c5b7481-a20b-43e9-83bc-34d276fc4dad",
   "metadata": {},
   "outputs": [
    {
     "data": {
      "text/plain": [
       "'hello'"
      ]
     },
     "execution_count": 13,
     "metadata": {},
     "output_type": "execute_result"
    }
   ],
   "source": [
    "lst[3][1][2][0]"
   ]
  },
  {
   "cell_type": "code",
   "execution_count": 14,
   "id": "9db113b6-029a-48c0-984c-159e1f6fe6ed",
   "metadata": {},
   "outputs": [],
   "source": [
    "# ** Given this nested dictionary grab the word \"hello\".\n",
    "# Be prepared, this will be annoying/tricky **\n",
    "\n",
    "d = {'k1':[1,2,3,{'tricky':['oh','man','inception',\n",
    "                            {'target':[1,2,3,'hello']}]}]}"
   ]
  },
  {
   "cell_type": "code",
   "execution_count": 20,
   "id": "80e2b2b6-19db-4645-a98f-ae5fb144bc4b",
   "metadata": {},
   "outputs": [
    {
     "data": {
      "text/plain": [
       "'hello'"
      ]
     },
     "execution_count": 20,
     "metadata": {},
     "output_type": "execute_result"
    }
   ],
   "source": [
    "d['k1'][3]['tricky'][3]['target'][3]"
   ]
  },
  {
   "cell_type": "code",
   "execution_count": 22,
   "id": "edbc1437-c104-4209-8413-a1206928bdca",
   "metadata": {},
   "outputs": [
    {
     "name": "stdin",
     "output_type": "stream",
     "text": [
      "Enter your E-mail ID:  bacd@gmail.com\n"
     ]
    },
    {
     "name": "stdout",
     "output_type": "stream",
     "text": [
      "gmail.com\n"
     ]
    }
   ],
   "source": [
    "# ** Create a function that grabs the email website domain from a string in the form: **\n",
    "\n",
    "#     user@domain.com\n",
    "    \n",
    "# **So for example, passing \"user@domain.com\" would return: domain.com**\n",
    "\n",
    "email = input(\"Enter your E-mail ID: \")\n",
    "def grab_email(email):\n",
    "    mail = email.split('@')\n",
    "    return mail[-1]\n",
    "domain = grab_email(email)\n",
    "print(domain)"
   ]
  },
  {
   "cell_type": "code",
   "execution_count": 26,
   "id": "926a3038-c779-43aa-9cef-b0ec9b67f146",
   "metadata": {},
   "outputs": [
    {
     "name": "stdin",
     "output_type": "stream",
     "text": [
      "Enter your sentence no animal\n"
     ]
    },
    {
     "name": "stdout",
     "output_type": "stream",
     "text": [
      "False\n"
     ]
    }
   ],
   "source": [
    "# ** Create a basic function that returns True if the word 'dog' is contained in the input\n",
    "# string. Don't worry about edge cases like a punctuation being attached to the word dog, \n",
    "# but do account for capitalization. **\n",
    "\n",
    "value = input(\"Enter your sentence\")\n",
    "def findDog(value):\n",
    "    if 'dog' in value.lower():\n",
    "        return True\n",
    "    else:\n",
    "        return False\n",
    "sentence = findDog(value)\n",
    "print(sentence)"
   ]
  },
  {
   "cell_type": "code",
   "execution_count": 33,
   "id": "e519979d-dadc-400e-801b-b5e301c6cde3",
   "metadata": {},
   "outputs": [
    {
     "name": "stdin",
     "output_type": "stream",
     "text": [
      "Enter your sentence dog dog DOG\n"
     ]
    },
    {
     "name": "stdout",
     "output_type": "stream",
     "text": [
      "3\n"
     ]
    }
   ],
   "source": [
    "# ** Create a function that counts the number of times the word \"dog\" occurs in a string. \n",
    "# Again ignore edge cases. **\n",
    "\n",
    "value = input(\"Enter your sentence\")\n",
    "def findDog(value):\n",
    "    case = value.lower()\n",
    "    word = case.split()\n",
    "    ans = word.count('dog')\n",
    "    return ans\n",
    "sentence = findDog(value)\n",
    "print(sentence)"
   ]
  },
  {
   "cell_type": "code",
   "execution_count": 34,
   "id": "edf354ca-5933-4145-a4d0-42dc3ecec078",
   "metadata": {},
   "outputs": [
    {
     "name": "stdout",
     "output_type": "stream",
     "text": [
      "['soup', 'salad']\n"
     ]
    }
   ],
   "source": [
    "# ** Use lambda expressions and the filter() function to filter out words from a list \n",
    "# that don't start with the letter 's'. For example:**\n",
    "# seq = ['soup','dog','salad','cat','great']\n",
    "\n",
    "# **should be filtered down to:**\n",
    "#  ['soup','salad']\n",
    "\n",
    "seq = ['soup', 'dog', 'salad', 'cat', 'great']\n",
    "\n",
    "filtered_seq = list(filter(lambda word: word.startswith('s'), seq))\n",
    "\n",
    "print(filtered_seq)"
   ]
  },
  {
   "cell_type": "code",
   "execution_count": 4,
   "id": "afdaa84a-e107-4f24-90e8-a363808d4d0d",
   "metadata": {},
   "outputs": [],
   "source": [
    "# **You are driving a little too fast, and a police officer stops you. Write a function\n",
    "# to return one of 3 possible results: \"No ticket\", \"Small ticket\", or \"Big Ticket\". \n",
    "# If your speed is 60 or less, the result is \"No Ticket\". If speed is between 61 \n",
    "# and 80 inclusive, the result is \"Small Ticket\". If speed is 81 or more, the result\n",
    "# is \"Big    Ticket\". Unless it is your birthday (encoded as a boolean value in the \n",
    "# parameters of the function) -- on your birthday, your speed can be 5 higher in all \n",
    "# cases. **\n",
    "\n",
    "def caught_speeding(speed,birthday):\n",
    "    if birthday:\n",
    "        speed -= 5\n",
    "    if speed <= 60:\n",
    "        return \"No Ticket\"\n",
    "    elif speed <= 80:\n",
    "        return \"Small Ticket\"\n",
    "    else:\n",
    "        return \"Big Ticket\""
   ]
  },
  {
   "cell_type": "code",
   "execution_count": 5,
   "id": "a2acf0b5-b2e3-47a1-80f6-b630c263aace",
   "metadata": {},
   "outputs": [
    {
     "data": {
      "text/plain": [
       "'Small Ticket'"
      ]
     },
     "execution_count": 5,
     "metadata": {},
     "output_type": "execute_result"
    }
   ],
   "source": [
    "caught_speeding(75,True)"
   ]
  },
  {
   "cell_type": "code",
   "execution_count": 6,
   "id": "f196ad1c-a70d-4653-9148-ed43fa1d36d4",
   "metadata": {},
   "outputs": [
    {
     "data": {
      "text/plain": [
       "'Big Ticket'"
      ]
     },
     "execution_count": 6,
     "metadata": {},
     "output_type": "execute_result"
    }
   ],
   "source": [
    "caught_speeding(100,False)"
   ]
  },
  {
   "cell_type": "code",
   "execution_count": 9,
   "id": "5d07aa88-c97b-45c1-bb13-7238b8d4fcc4",
   "metadata": {},
   "outputs": [
    {
     "name": "stdout",
     "output_type": "stream",
     "text": [
      "-6984\n"
     ]
    }
   ],
   "source": [
    "# Given a string print number num by extracting all the\n",
    "# digits from the string as in string\n",
    "# Print negative number if the first character in \n",
    "# string is '-'\n",
    "\n",
    "def get_number(num):\n",
    "    n = ''  \n",
    "    i = 0\n",
    "\n",
    "    if num[0] == '-':\n",
    "        n += '-'  \n",
    "        i = 1\n",
    "\n",
    "    while i < len(num):  \n",
    "        if num[i].isnumeric():\n",
    "            n += num[i]  \n",
    "        i += 1\n",
    "\n",
    "    print(n)\n",
    "get_number(\"-6habsf98hfa4\")"
   ]
  },
  {
   "cell_type": "code",
   "execution_count": 10,
   "id": "e1f9ca36-0962-4f12-9cd3-3ba4d70b27db",
   "metadata": {},
   "outputs": [
    {
     "name": "stdin",
     "output_type": "stream",
     "text": [
      "Enter the number: 88\n"
     ]
    },
    {
     "name": "stdout",
     "output_type": "stream",
     "text": [
      "Number is: 847\n",
      "Reverse is: 748\n",
      "Number is: 1595\n",
      "Reverse is: 5951\n",
      "Number is: 7546\n",
      "Reverse is: 6457\n",
      "Number is: 14003\n",
      "Reverse is: 30041\n",
      "Number is: 44044\n",
      "Reverse is: 44044\n",
      "Palindrome is: 44044\n"
     ]
    }
   ],
   "source": [
    "# WAP to check whether a number is palindrome or not on following \n",
    "# conditions.\n",
    "# 1. take input number\n",
    "# 2. add number and its reverse\n",
    "# 3. check that number is palindrome or not,if not then sum and its reverse\n",
    "\n",
    "n1=input(\"Enter the number:\")\n",
    "n2=int(n1[::-1])\n",
    "n3=str(int(n1)+n2)\n",
    "while n3!=n3[::-1]:\n",
    "    n3=str(int(n3)+int(n3[::-1]))\n",
    "    print(\"Number is:\",n3)\n",
    "    print(\"Reverse is:\",n3[::-1])\n",
    "print(\"Palindrome is:\",n3)"
   ]
  },
  {
   "cell_type": "code",
   "execution_count": null,
   "id": "8816ab97-ec39-4b42-8e5a-dc7e10265b6d",
   "metadata": {},
   "outputs": [],
   "source": []
  }
 ],
 "metadata": {
  "kernelspec": {
   "display_name": "Python 3 (ipykernel)",
   "language": "python",
   "name": "python3"
  },
  "language_info": {
   "codemirror_mode": {
    "name": "ipython",
    "version": 3
   },
   "file_extension": ".py",
   "mimetype": "text/x-python",
   "name": "python",
   "nbconvert_exporter": "python",
   "pygments_lexer": "ipython3",
   "version": "3.11.5"
  }
 },
 "nbformat": 4,
 "nbformat_minor": 5
}
